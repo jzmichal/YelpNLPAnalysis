{
 "cells": [
  {
   "cell_type": "code",
   "execution_count": 41,
   "metadata": {},
   "outputs": [],
   "source": [
    "from pyspark.sql import SQLContext\n",
    "import pandas as pd\n",
    "from pyspark.context import SparkContext\n",
    "from pyspark.sql.session import SparkSession\n",
    "from pyspark.sql.functions import udf\n",
    "from pyspark.sql.types import *\n",
    "import readability\n",
    "import syntok.segmenter as segmenter\n",
    "from pyspark.sql import functions as F"
   ]
  },
  {
   "cell_type": "code",
   "execution_count": 2,
   "metadata": {},
   "outputs": [],
   "source": [
    "sc = SparkContext()\n",
    "sqlContext = SQLContext(sc)\n",
    "spark = SparkSession(sc)"
   ]
  },
  {
   "cell_type": "code",
   "execution_count": 3,
   "metadata": {},
   "outputs": [],
   "source": [
    "def run_sql(statement):\n",
    "    try:\n",
    "        result = sqlContext.sql(statement)\n",
    "    except Exception as e:\n",
    "        print(e.desc, '\\n', e.stackTrace)\n",
    "        return\n",
    "    return result"
   ]
  },
  {
   "cell_type": "code",
   "execution_count": 4,
   "metadata": {},
   "outputs": [],
   "source": [
    "run_sql('create database review_matrix')\n",
    "dbs = run_sql('show databases')"
   ]
  },
  {
   "cell_type": "code",
   "execution_count": 5,
   "metadata": {},
   "outputs": [],
   "source": [
    "df = sqlContext.read.format('com.databricks.spark.csv').options(header='true', inferschema='true').load('data/review_df.csv')"
   ]
  },
  {
   "cell_type": "code",
   "execution_count": 6,
   "metadata": {},
   "outputs": [],
   "source": [
    "df = (spark.read.format(\"csv\") \n",
    "                    .option(\"inferSchema\", \"true\") \n",
    "                    .option(\"header\", \"true\") \n",
    "                    .option(\"multiLine\",\"true\")\n",
    "                    .load(\"data/review_df.csv\"))"
   ]
  },
  {
   "cell_type": "code",
   "execution_count": 7,
   "metadata": {},
   "outputs": [
    {
     "data": {
      "text/plain": [
       "[('stars', 'string'),\n",
       " ('text', 'string'),\n",
       " ('useful', 'string'),\n",
       " ('nb_days', 'string'),\n",
       " ('log_useful', 'string')]"
      ]
     },
     "execution_count": 7,
     "metadata": {},
     "output_type": "execute_result"
    }
   ],
   "source": [
    "df.dtypes"
   ]
  },
  {
   "cell_type": "code",
   "execution_count": 8,
   "metadata": {},
   "outputs": [
    {
     "name": "stdout",
     "output_type": "stream",
     "text": [
      "root\n",
      " |-- stars: string (nullable = true)\n",
      " |-- text: string (nullable = true)\n",
      " |-- useful: string (nullable = true)\n",
      " |-- nb_days: string (nullable = true)\n",
      " |-- log_useful: string (nullable = true)\n",
      "\n"
     ]
    }
   ],
   "source": [
    "df.printSchema()"
   ]
  },
  {
   "cell_type": "code",
   "execution_count": 9,
   "metadata": {},
   "outputs": [
    {
     "name": "stdout",
     "output_type": "stream",
     "text": [
      "+-----+--------------------+------+-------+------------------+\n",
      "|stars|                text|useful|nb_days|        log_useful|\n",
      "+-----+--------------------+------+-------+------------------+\n",
      "|    5|Went in for a lun...|     0|    305|               0.0|\n",
      "|    1|Really one of dir...|     0|   1158|               0.0|\n",
      "|    1|Terrible place to...|     1|   1628|0.6931471805599453|\n",
      "|    5|One of the best I...|     1|   1252|0.6931471805599453|\n",
      "|    5|A favorite amongs...|     0|    932|               0.0|\n",
      "+-----+--------------------+------+-------+------------------+\n",
      "only showing top 5 rows\n",
      "\n"
     ]
    }
   ],
   "source": [
    "df.show(5)"
   ]
  },
  {
   "cell_type": "code",
   "execution_count": 72,
   "metadata": {},
   "outputs": [],
   "source": [
    "def rename_cols(key, d):\n",
    "    \"\"\"Add more annotation to column names for better understanding of the context of the NLP Features\"\"\"\n",
    "    new_dict = {}\n",
    "    for nested_key in d[key].keys():\n",
    "        new_dict[key + \" \" + nested_key] = d[key][nested_key]\n",
    "    return pd.Series(new_dict).tolist()\n",
    "def unpack(t):\n",
    "    \"\"\"The readability API returns a nested dictionary of dictionaries, where each key in the original dictionary\n",
    "    corresponds to a feature category e.g. sentence info, readability metric. This unpacks it and adds the new rows\n",
    "    to the dataframe\"\"\"\n",
    "    tokenized = '\\n\\n'.join(\n",
    "     '\\n'.join(' '.join(token.value for token in sentence)\n",
    "        for sentence in paragraph)\n",
    "     for paragraph in segmenter.analyze(t))\n",
    "    nested_feature_dict = readability.getmeasures(tokenized, lang = 'en')\n",
    "    row = []\n",
    "    for k in nested_feature_dict.keys():\n",
    "        row_fragment = rename_cols(k, nested_feature_dict)\n",
    "        row.append(row_fragment)\n",
    "    flat_list = []\n",
    "    for sublist in row:\n",
    "        for item in sublist:\n",
    "            flat_list.append(item)\n",
    "    return flat_list\n",
    "    \n"
   ]
  },
  {
   "cell_type": "code",
   "execution_count": 53,
   "metadata": {},
   "outputs": [
    {
     "name": "stdout",
     "output_type": "stream",
     "text": [
      "+-----+--------------------+------+-------+----------+\n",
      "|stars|                text|useful|nb_days|log_useful|\n",
      "+-----+--------------------+------+-------+----------+\n",
      "|    5|Went in for a lun...|     0|    305|       0.0|\n",
      "|    1|Really one of dir...|     0|   1158|       0.0|\n",
      "+-----+--------------------+------+-------+----------+\n",
      "\n"
     ]
    }
   ],
   "source": [
    "sub_df = df.limit(2)\n",
    "sub_df.show(2)"
   ]
  },
  {
   "cell_type": "code",
   "execution_count": 73,
   "metadata": {},
   "outputs": [],
   "source": [
    "to_list_udf = udf(unpack, ArrayType(StringType()))\n",
    "f = sub_df.withColumn('subset', to_list_udf(sub_df.text))"
   ]
  },
  {
   "cell_type": "code",
   "execution_count": 74,
   "metadata": {},
   "outputs": [
    {
     "data": {
      "text/plain": [
       "35"
      ]
     },
     "execution_count": 74,
     "metadata": {},
     "output_type": "execute_result"
    }
   ],
   "source": [
    "length = len(f.select('subset').take(1)[0][0])\n",
    "length"
   ]
  },
  {
   "cell_type": "code",
   "execution_count": 75,
   "metadata": {},
   "outputs": [
    {
     "name": "stdout",
     "output_type": "stream",
     "text": [
      "+--------------------+----------+-----------------+-----------------+------------------+-----------------+-----------------+------------------+-----------------+------------------+-----------------+------------------+------------------+-----------------+----------+------------------+----------+----------+----------+----------+----------+----------+----------+----------+----------+----------+----------+----------+----------+----------+----------+----------+----------+----------+----------+----------+----------+\n",
      "|                text|log_useful|        subset[0]|        subset[1]|         subset[2]|        subset[3]|        subset[4]|         subset[5]|        subset[6]|         subset[7]|        subset[8]|         subset[9]|        subset[10]|       subset[11]|subset[12]|        subset[13]|subset[14]|subset[15]|subset[16]|subset[17]|subset[18]|subset[19]|subset[20]|subset[21]|subset[22]|subset[23]|subset[24]|subset[25]|subset[26]|subset[27]|subset[28]|subset[29]|subset[30]|subset[31]|subset[32]|subset[33]|subset[34]|\n",
      "+--------------------+----------+-----------------+-----------------+------------------+-----------------+-----------------+------------------+-----------------+------------------+-----------------+------------------+------------------+-----------------+----------+------------------+----------+----------+----------+----------+----------+----------+----------+----------+----------+----------+----------+----------+----------+----------+----------+----------+----------+----------+----------+----------+----------+\n",
      "|Went in for a lun...|       0.0|4.536078431372548|4.443218954248369| 7.866651132352942| 75.9984640522876|7.728104575163399|28.143790849673202|8.163977794943222|1.5555555555555556|7.958755555555555|4.6911764705882355|1.4558823529411764|7.555555555555555|      2.25|0.8088235294117647|     319.0|      99.0|      68.0|      55.0|       9.0|       4.0|      14.0|       8.0|      17.0|         4|         1|         4|         4|         9|         2|         1|         0|         1|         0|         1|         2|\n",
      "|Really one of dir...|       0.0|6.277000000000001|7.428000000000001|10.055498400000001|72.32350000000002|              9.8|              28.5| 9.70820393249937|               2.0|           8.0461|               4.8|              1.44|             12.5|       2.0|               1.0|     120.0|      36.0|      25.0|      25.0|       2.0|       1.0|       4.0|       3.0|       6.0|         0|         0|         1|         2|         3|         1|         0|         0|         0|         0|         0|         0|\n",
      "+--------------------+----------+-----------------+-----------------+------------------+-----------------+-----------------+------------------+-----------------+------------------+-----------------+------------------+------------------+-----------------+----------+------------------+----------+----------+----------+----------+----------+----------+----------+----------+----------+----------+----------+----------+----------+----------+----------+----------+----------+----------+----------+----------+----------+\n",
      "\n"
     ]
    }
   ],
   "source": [
    "df = f.select(['text', 'log_useful']  + [f.subset[i] for i in range(length)])\n",
    "df.show()"
   ]
  },
  {
   "cell_type": "code",
   "execution_count": null,
   "metadata": {},
   "outputs": [],
   "source": []
  }
 ],
 "metadata": {
  "kernelspec": {
   "display_name": "Python 3",
   "language": "python",
   "name": "python3"
  },
  "language_info": {
   "codemirror_mode": {
    "name": "ipython",
    "version": 3
   },
   "file_extension": ".py",
   "mimetype": "text/x-python",
   "name": "python",
   "nbconvert_exporter": "python",
   "pygments_lexer": "ipython3",
   "version": "3.6.5"
  }
 },
 "nbformat": 4,
 "nbformat_minor": 2
}
