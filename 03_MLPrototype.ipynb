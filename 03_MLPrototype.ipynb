{
 "cells": [
  {
   "cell_type": "markdown",
   "metadata": {},
   "source": [
    "# Machine Learning Prototype"
   ]
  },
  {
   "cell_type": "markdown",
   "metadata": {},
   "source": [
    "The idea is that we're going to create several different models and compare performance. The statsmodel api returns a lot of useful metrics to evaulate our model performance, so we'll use that to begin with. We'll build up a simple intuitive, baseline model and progressively add more features to the model, as well as eventually testing with a new PCA matrix."
   ]
  },
  {
   "cell_type": "code",
   "execution_count": 1,
   "metadata": {},
   "outputs": [],
   "source": [
    "import numpy as np\n",
    "from sklearn.linear_model import LinearRegression\n",
    "from sklearn.model_selection import GridSearchCV\n",
    "import pandas as pd\n",
    "from sklearn.model_selection import train_test_split\n",
    "from sklearn.metrics import mean_squared_error\n",
    "from ml_metrics import rmse\n",
    "from sklearn.decomposition import PCA\n",
    "from sklearn.preprocessing import MinMaxScaler\n",
    "from sklearn.linear_model import Ridge\n",
    "import statsmodels.formula.api as smf\n",
    "from sklearn.model_selection import KFold\n",
    "from sklearn.ensemble import RandomForestRegressor\n",
    "import matplotlib.pyplot as plt\n",
    "import seaborn as sns\n",
    "from sklearn.model_selection import GridSearchCV\n",
    "from sklearn.metrics import r2_score\n",
    "import statsmodels.api as sm\n"
   ]
  },
  {
   "cell_type": "markdown",
   "metadata": {},
   "source": [
    "read in engineered data from previous notebook, 02 Exploratory Data Analysis. "
   ]
  },
  {
   "cell_type": "code",
   "execution_count": 2,
   "metadata": {},
   "outputs": [
    {
     "name": "stdout",
     "output_type": "stream",
     "text": [
      "(624437, 41)\n"
     ]
    },
    {
     "data": {
      "text/html": [
       "<div>\n",
       "<style scoped>\n",
       "    .dataframe tbody tr th:only-of-type {\n",
       "        vertical-align: middle;\n",
       "    }\n",
       "\n",
       "    .dataframe tbody tr th {\n",
       "        vertical-align: top;\n",
       "    }\n",
       "\n",
       "    .dataframe thead th {\n",
       "        text-align: right;\n",
       "    }\n",
       "</style>\n",
       "<table border=\"1\" class=\"dataframe\">\n",
       "  <thead>\n",
       "    <tr style=\"text-align: right;\">\n",
       "      <th></th>\n",
       "      <th>stars</th>\n",
       "      <th>log_useful</th>\n",
       "      <th>readability grades Kincaid</th>\n",
       "      <th>readability grades ARI</th>\n",
       "      <th>readability grades Coleman-Liau</th>\n",
       "      <th>readability grades FleschReadingEase</th>\n",
       "      <th>readability grades GunningFogIndex</th>\n",
       "      <th>readability grades LIX</th>\n",
       "      <th>readability grades SMOGIndex</th>\n",
       "      <th>readability grades RIX</th>\n",
       "      <th>...</th>\n",
       "      <th>sentence beginnings pronoun</th>\n",
       "      <th>sentence beginnings interrogative</th>\n",
       "      <th>sentence beginnings article</th>\n",
       "      <th>sentence beginnings subordination</th>\n",
       "      <th>sentence beginnings conjunction</th>\n",
       "      <th>sentence beginnings preposition</th>\n",
       "      <th>compound</th>\n",
       "      <th>neg</th>\n",
       "      <th>neu</th>\n",
       "      <th>pos</th>\n",
       "    </tr>\n",
       "  </thead>\n",
       "  <tbody>\n",
       "    <tr>\n",
       "      <th>0</th>\n",
       "      <td>3</td>\n",
       "      <td>1.098612</td>\n",
       "      <td>4.957177</td>\n",
       "      <td>4.700499</td>\n",
       "      <td>6.923485</td>\n",
       "      <td>80.640964</td>\n",
       "      <td>9.080207</td>\n",
       "      <td>29.929432</td>\n",
       "      <td>9.210590</td>\n",
       "      <td>2.142857</td>\n",
       "      <td>...</td>\n",
       "      <td>3.0</td>\n",
       "      <td>0.0</td>\n",
       "      <td>1.0</td>\n",
       "      <td>0.0</td>\n",
       "      <td>0.0</td>\n",
       "      <td>0.0</td>\n",
       "      <td>0.1531</td>\n",
       "      <td>0.121</td>\n",
       "      <td>0.746</td>\n",
       "      <td>0.134</td>\n",
       "    </tr>\n",
       "    <tr>\n",
       "      <th>1</th>\n",
       "      <td>4</td>\n",
       "      <td>1.098612</td>\n",
       "      <td>6.355000</td>\n",
       "      <td>7.633561</td>\n",
       "      <td>9.309376</td>\n",
       "      <td>75.623333</td>\n",
       "      <td>9.503030</td>\n",
       "      <td>35.121212</td>\n",
       "      <td>9.324555</td>\n",
       "      <td>3.000000</td>\n",
       "      <td>...</td>\n",
       "      <td>1.0</td>\n",
       "      <td>0.0</td>\n",
       "      <td>3.0</td>\n",
       "      <td>0.0</td>\n",
       "      <td>0.0</td>\n",
       "      <td>0.0</td>\n",
       "      <td>0.9774</td>\n",
       "      <td>0.000</td>\n",
       "      <td>0.595</td>\n",
       "      <td>0.405</td>\n",
       "    </tr>\n",
       "    <tr>\n",
       "      <th>2</th>\n",
       "      <td>5</td>\n",
       "      <td>1.098612</td>\n",
       "      <td>5.863636</td>\n",
       "      <td>6.478182</td>\n",
       "      <td>9.483280</td>\n",
       "      <td>72.615455</td>\n",
       "      <td>11.066667</td>\n",
       "      <td>36.757576</td>\n",
       "      <td>10.416198</td>\n",
       "      <td>2.833333</td>\n",
       "      <td>...</td>\n",
       "      <td>4.0</td>\n",
       "      <td>0.0</td>\n",
       "      <td>1.0</td>\n",
       "      <td>0.0</td>\n",
       "      <td>0.0</td>\n",
       "      <td>0.0</td>\n",
       "      <td>0.9460</td>\n",
       "      <td>0.000</td>\n",
       "      <td>0.682</td>\n",
       "      <td>0.318</td>\n",
       "    </tr>\n",
       "    <tr>\n",
       "      <th>3</th>\n",
       "      <td>5</td>\n",
       "      <td>0.000000</td>\n",
       "      <td>5.882500</td>\n",
       "      <td>4.708750</td>\n",
       "      <td>6.936612</td>\n",
       "      <td>60.012500</td>\n",
       "      <td>9.100000</td>\n",
       "      <td>29.000000</td>\n",
       "      <td>7.743416</td>\n",
       "      <td>1.000000</td>\n",
       "      <td>...</td>\n",
       "      <td>1.0</td>\n",
       "      <td>0.0</td>\n",
       "      <td>0.0</td>\n",
       "      <td>0.0</td>\n",
       "      <td>0.0</td>\n",
       "      <td>0.0</td>\n",
       "      <td>0.9531</td>\n",
       "      <td>0.000</td>\n",
       "      <td>0.305</td>\n",
       "      <td>0.695</td>\n",
       "    </tr>\n",
       "    <tr>\n",
       "      <th>4</th>\n",
       "      <td>2</td>\n",
       "      <td>0.693147</td>\n",
       "      <td>6.721212</td>\n",
       "      <td>7.461576</td>\n",
       "      <td>7.209448</td>\n",
       "      <td>79.528485</td>\n",
       "      <td>10.969697</td>\n",
       "      <td>35.909091</td>\n",
       "      <td>10.071068</td>\n",
       "      <td>3.222222</td>\n",
       "      <td>...</td>\n",
       "      <td>3.0</td>\n",
       "      <td>0.0</td>\n",
       "      <td>1.0</td>\n",
       "      <td>1.0</td>\n",
       "      <td>2.0</td>\n",
       "      <td>2.0</td>\n",
       "      <td>0.9123</td>\n",
       "      <td>0.088</td>\n",
       "      <td>0.688</td>\n",
       "      <td>0.224</td>\n",
       "    </tr>\n",
       "  </tbody>\n",
       "</table>\n",
       "<p>5 rows × 41 columns</p>\n",
       "</div>"
      ],
      "text/plain": [
       "   stars  log_useful  readability grades Kincaid  readability grades ARI  \\\n",
       "0      3    1.098612                    4.957177                4.700499   \n",
       "1      4    1.098612                    6.355000                7.633561   \n",
       "2      5    1.098612                    5.863636                6.478182   \n",
       "3      5    0.000000                    5.882500                4.708750   \n",
       "4      2    0.693147                    6.721212                7.461576   \n",
       "\n",
       "   readability grades Coleman-Liau  readability grades FleschReadingEase  \\\n",
       "0                         6.923485                             80.640964   \n",
       "1                         9.309376                             75.623333   \n",
       "2                         9.483280                             72.615455   \n",
       "3                         6.936612                             60.012500   \n",
       "4                         7.209448                             79.528485   \n",
       "\n",
       "   readability grades GunningFogIndex  readability grades LIX  \\\n",
       "0                            9.080207               29.929432   \n",
       "1                            9.503030               35.121212   \n",
       "2                           11.066667               36.757576   \n",
       "3                            9.100000               29.000000   \n",
       "4                           10.969697               35.909091   \n",
       "\n",
       "   readability grades SMOGIndex  readability grades RIX  ...    \\\n",
       "0                      9.210590                2.142857  ...     \n",
       "1                      9.324555                3.000000  ...     \n",
       "2                     10.416198                2.833333  ...     \n",
       "3                      7.743416                1.000000  ...     \n",
       "4                     10.071068                3.222222  ...     \n",
       "\n",
       "   sentence beginnings pronoun  sentence beginnings interrogative  \\\n",
       "0                          3.0                                0.0   \n",
       "1                          1.0                                0.0   \n",
       "2                          4.0                                0.0   \n",
       "3                          1.0                                0.0   \n",
       "4                          3.0                                0.0   \n",
       "\n",
       "   sentence beginnings article  sentence beginnings subordination  \\\n",
       "0                          1.0                                0.0   \n",
       "1                          3.0                                0.0   \n",
       "2                          1.0                                0.0   \n",
       "3                          0.0                                0.0   \n",
       "4                          1.0                                1.0   \n",
       "\n",
       "   sentence beginnings conjunction  sentence beginnings preposition  compound  \\\n",
       "0                              0.0                              0.0    0.1531   \n",
       "1                              0.0                              0.0    0.9774   \n",
       "2                              0.0                              0.0    0.9460   \n",
       "3                              0.0                              0.0    0.9531   \n",
       "4                              2.0                              2.0    0.9123   \n",
       "\n",
       "     neg    neu    pos  \n",
       "0  0.121  0.746  0.134  \n",
       "1  0.000  0.595  0.405  \n",
       "2  0.000  0.682  0.318  \n",
       "3  0.000  0.305  0.695  \n",
       "4  0.088  0.688  0.224  \n",
       "\n",
       "[5 rows x 41 columns]"
      ]
     },
     "execution_count": 2,
     "metadata": {},
     "output_type": "execute_result"
    }
   ],
   "source": [
    "engineered_df = pd.read_csv(\"data/engineered_df.csv\")\n",
    "print(engineered_df.shape)\n",
    "engineered_df.head()"
   ]
  },
  {
   "cell_type": "code",
   "execution_count": 3,
   "metadata": {},
   "outputs": [],
   "source": [
    "X,y = engineered_df.drop(columns = [\"log_useful\"]), engineered_df.log_useful\n",
    "X_train, X_test, y_train, y_test = train_test_split(X, y, test_size=0.3, random_state=13)"
   ]
  },
  {
   "cell_type": "markdown",
   "metadata": {},
   "source": [
    "### Initial Intuitive Baseline Model\n",
    "Here we'll create and evaluate a baseline model with intuitive features. We'll use stars and number of characters in a review to predict the log usefulness of it. Remember we found from the previous notebook that lower rated reviews tend to be more useful, as well as longer reviews being more useful. We made sense of this by noticing that the more stars the user gave the restaurant business, the shorter their review was because when people are pleased they're much more likely to leave a generic positive comment and not necessilarly comment on exactly what it was that they liked. On the flip side, lower rated reviews tend to be longer because when someone doesn't have a positive experience, if they're going to leave a review they're almost certainly going to say exactly what it was that made their experience negative so that those reading their review can understand exactly where their sentiment is coming from. "
   ]
  },
  {
   "cell_type": "code",
   "execution_count": 4,
   "metadata": {},
   "outputs": [
    {
     "data": {
      "text/html": [
       "<table class=\"simpletable\">\n",
       "<caption>OLS Regression Results</caption>\n",
       "<tr>\n",
       "  <th>Dep. Variable:</th>       <td>log_useful</td>    <th>  R-squared:         </th>  <td>   0.136</td>  \n",
       "</tr>\n",
       "<tr>\n",
       "  <th>Model:</th>                   <td>OLS</td>       <th>  Adj. R-squared:    </th>  <td>   0.136</td>  \n",
       "</tr>\n",
       "<tr>\n",
       "  <th>Method:</th>             <td>Least Squares</td>  <th>  F-statistic:       </th>  <td>9.796e+04</td> \n",
       "</tr>\n",
       "<tr>\n",
       "  <th>Date:</th>             <td>Thu, 12 Mar 2020</td> <th>  Prob (F-statistic):</th>   <td>  0.00</td>   \n",
       "</tr>\n",
       "<tr>\n",
       "  <th>Time:</th>                 <td>18:20:48</td>     <th>  Log-Likelihood:    </th> <td>-5.2959e+05</td>\n",
       "</tr>\n",
       "<tr>\n",
       "  <th>No. Observations:</th>      <td>624437</td>      <th>  AIC:               </th>  <td>1.059e+06</td> \n",
       "</tr>\n",
       "<tr>\n",
       "  <th>Df Residuals:</th>          <td>624435</td>      <th>  BIC:               </th>  <td>1.059e+06</td> \n",
       "</tr>\n",
       "<tr>\n",
       "  <th>Df Model:</th>              <td>     1</td>      <th>                     </th>      <td> </td>     \n",
       "</tr>\n",
       "<tr>\n",
       "  <th>Covariance Type:</th>      <td>nonrobust</td>    <th>                     </th>      <td> </td>     \n",
       "</tr>\n",
       "</table>\n",
       "<table class=\"simpletable\">\n",
       "<tr>\n",
       "                <td></td>                   <th>coef</th>     <th>std err</th>      <th>t</th>      <th>P>|t|</th>  <th>[0.025</th>    <th>0.975]</th>  \n",
       "</tr>\n",
       "<tr>\n",
       "  <th>Intercept</th>                     <td>    0.1702</td> <td>    0.001</td> <td>  163.148</td> <td> 0.000</td> <td>    0.168</td> <td>    0.172</td>\n",
       "</tr>\n",
       "<tr>\n",
       "  <th>Q(\"sentence info characters\")</th> <td>    0.0006</td> <td> 1.81e-06</td> <td>  312.985</td> <td> 0.000</td> <td>    0.001</td> <td>    0.001</td>\n",
       "</tr>\n",
       "</table>\n",
       "<table class=\"simpletable\">\n",
       "<tr>\n",
       "  <th>Omnibus:</th>       <td>156588.192</td> <th>  Durbin-Watson:     </th>  <td>   2.002</td> \n",
       "</tr>\n",
       "<tr>\n",
       "  <th>Prob(Omnibus):</th>   <td> 0.000</td>   <th>  Jarque-Bera (JB):  </th> <td>411495.732</td>\n",
       "</tr>\n",
       "<tr>\n",
       "  <th>Skew:</th>            <td> 1.357</td>   <th>  Prob(JB):          </th>  <td>    0.00</td> \n",
       "</tr>\n",
       "<tr>\n",
       "  <th>Kurtosis:</th>        <td> 5.906</td>   <th>  Cond. No.          </th>  <td>    841.</td> \n",
       "</tr>\n",
       "</table><br/><br/>Warnings:<br/>[1] Standard Errors assume that the covariance matrix of the errors is correctly specified."
      ],
      "text/plain": [
       "<class 'statsmodels.iolib.summary.Summary'>\n",
       "\"\"\"\n",
       "                            OLS Regression Results                            \n",
       "==============================================================================\n",
       "Dep. Variable:             log_useful   R-squared:                       0.136\n",
       "Model:                            OLS   Adj. R-squared:                  0.136\n",
       "Method:                 Least Squares   F-statistic:                 9.796e+04\n",
       "Date:                Thu, 12 Mar 2020   Prob (F-statistic):               0.00\n",
       "Time:                        18:20:48   Log-Likelihood:            -5.2959e+05\n",
       "No. Observations:              624437   AIC:                         1.059e+06\n",
       "Df Residuals:                  624435   BIC:                         1.059e+06\n",
       "Df Model:                           1                                         \n",
       "Covariance Type:            nonrobust                                         \n",
       "=================================================================================================\n",
       "                                    coef    std err          t      P>|t|      [0.025      0.975]\n",
       "-------------------------------------------------------------------------------------------------\n",
       "Intercept                         0.1702      0.001    163.148      0.000       0.168       0.172\n",
       "Q(\"sentence info characters\")     0.0006   1.81e-06    312.985      0.000       0.001       0.001\n",
       "==============================================================================\n",
       "Omnibus:                   156588.192   Durbin-Watson:                   2.002\n",
       "Prob(Omnibus):                  0.000   Jarque-Bera (JB):           411495.732\n",
       "Skew:                           1.357   Prob(JB):                         0.00\n",
       "Kurtosis:                       5.906   Cond. No.                         841.\n",
       "==============================================================================\n",
       "\n",
       "Warnings:\n",
       "[1] Standard Errors assume that the covariance matrix of the errors is correctly specified.\n",
       "\"\"\""
      ]
     },
     "execution_count": 4,
     "metadata": {},
     "output_type": "execute_result"
    }
   ],
   "source": [
    "smresults = smf.ols(formula = 'log_useful ~ Q(\"sentence info characters\")', data=engineered_df).fit()\n",
    "smresults.summary()"
   ]
  },
  {
   "cell_type": "markdown",
   "metadata": {},
   "source": [
    "### Observations\n",
    "R-squared coefficient is not bad for just one feature. Intuitively, we can think of the R-squared here as equal to variation in log useful votes explained by the number of characters in a review, divided by the variation in log useful votes without taking the number of characters into account. Thus, if we had a R-squared value of one, that would signify that our feature for the number of characters in a review perfectly explains and accounts for all of the variance in our target variable, log useful votes. Thus we can interpret our score of .136 as 13.6% of the variance in log useful votes being explained by the number of characters.\n",
    "\n",
    "Our F-statistic is relatively high. Similar to our R-squared coefficient but with a slightly modified denominator,  we can think of the F-statistic here as equal to variation in log useful votes explained by the number of characters in a review, divided by the variation in log useful votes not explained by the number of characters in a review. Since our value is very high, this means the numerator is much larger than the demoninator, i.e. the variation in log useful votes explained by the number of characters in a review is much larger than the variation in log useful votes not explained by the number of characters in a review, so basically our feature has a lot more significance than non-significance. Note most importantly that Prob (F-statistic) is 0, which is what allows us to give credence to the F-statistic in the first place. You can think of this as meaning if we set the coefficient for the feature characters number of characters to 0, meaning our model doesn't use this feature at all when predicting the log useful votes and only uses the bias (intercept), then our model would be just as good as it was when we did use this feature for our predictions. So, since this 0 that means we are confident that our model would be a lot worse without this feature. \n",
    "\n",
    "Two things to note here that we discovered in our previous notebook, Exploratory Data Analysis, which are backed up here by our linear model. First, the coefficient for number of characters is positive, which is indictive of a positive correlation between this and the target variable log useful votes for a review. Secondly, A skew of 1.357 means that our target variable log useful votes is right skewed.\n"
   ]
  },
  {
   "cell_type": "markdown",
   "metadata": {},
   "source": [
    "### Adding Number of Stars to Baseline Model"
   ]
  },
  {
   "cell_type": "code",
   "execution_count": 5,
   "metadata": {},
   "outputs": [
    {
     "data": {
      "text/html": [
       "<table class=\"simpletable\">\n",
       "<caption>OLS Regression Results</caption>\n",
       "<tr>\n",
       "  <th>Dep. Variable:</th>       <td>log_useful</td>    <th>  R-squared:         </th>  <td>   0.137</td>  \n",
       "</tr>\n",
       "<tr>\n",
       "  <th>Model:</th>                   <td>OLS</td>       <th>  Adj. R-squared:    </th>  <td>   0.137</td>  \n",
       "</tr>\n",
       "<tr>\n",
       "  <th>Method:</th>             <td>Least Squares</td>  <th>  F-statistic:       </th>  <td>4.954e+04</td> \n",
       "</tr>\n",
       "<tr>\n",
       "  <th>Date:</th>             <td>Thu, 12 Mar 2020</td> <th>  Prob (F-statistic):</th>   <td>  0.00</td>   \n",
       "</tr>\n",
       "<tr>\n",
       "  <th>Time:</th>                 <td>18:20:48</td>     <th>  Log-Likelihood:    </th> <td>-5.2911e+05</td>\n",
       "</tr>\n",
       "<tr>\n",
       "  <th>No. Observations:</th>      <td>624437</td>      <th>  AIC:               </th>  <td>1.058e+06</td> \n",
       "</tr>\n",
       "<tr>\n",
       "  <th>Df Residuals:</th>          <td>624434</td>      <th>  BIC:               </th>  <td>1.058e+06</td> \n",
       "</tr>\n",
       "<tr>\n",
       "  <th>Df Model:</th>              <td>     2</td>      <th>                     </th>      <td> </td>     \n",
       "</tr>\n",
       "<tr>\n",
       "  <th>Covariance Type:</th>      <td>nonrobust</td>    <th>                     </th>      <td> </td>     \n",
       "</tr>\n",
       "</table>\n",
       "<table class=\"simpletable\">\n",
       "<tr>\n",
       "                <td></td>                   <th>coef</th>     <th>std err</th>      <th>t</th>      <th>P>|t|</th>  <th>[0.025</th>    <th>0.975]</th>  \n",
       "</tr>\n",
       "<tr>\n",
       "  <th>Intercept</th>                     <td>    0.2340</td> <td>    0.002</td> <td>  101.517</td> <td> 0.000</td> <td>    0.229</td> <td>    0.238</td>\n",
       "</tr>\n",
       "<tr>\n",
       "  <th>stars</th>                         <td>   -0.0159</td> <td>    0.001</td> <td>  -31.007</td> <td> 0.000</td> <td>   -0.017</td> <td>   -0.015</td>\n",
       "</tr>\n",
       "<tr>\n",
       "  <th>Q(\"sentence info characters\")</th> <td>    0.0006</td> <td> 1.84e-06</td> <td>  303.170</td> <td> 0.000</td> <td>    0.001</td> <td>    0.001</td>\n",
       "</tr>\n",
       "</table>\n",
       "<table class=\"simpletable\">\n",
       "<tr>\n",
       "  <th>Omnibus:</th>       <td>156710.909</td> <th>  Durbin-Watson:     </th>  <td>   2.002</td> \n",
       "</tr>\n",
       "<tr>\n",
       "  <th>Prob(Omnibus):</th>   <td> 0.000</td>   <th>  Jarque-Bera (JB):  </th> <td>414222.628</td>\n",
       "</tr>\n",
       "<tr>\n",
       "  <th>Skew:</th>            <td> 1.356</td>   <th>  Prob(JB):          </th>  <td>    0.00</td> \n",
       "</tr>\n",
       "<tr>\n",
       "  <th>Kurtosis:</th>        <td> 5.927</td>   <th>  Cond. No.          </th>  <td>1.90e+03</td> \n",
       "</tr>\n",
       "</table><br/><br/>Warnings:<br/>[1] Standard Errors assume that the covariance matrix of the errors is correctly specified.<br/>[2] The condition number is large, 1.9e+03. This might indicate that there are<br/>strong multicollinearity or other numerical problems."
      ],
      "text/plain": [
       "<class 'statsmodels.iolib.summary.Summary'>\n",
       "\"\"\"\n",
       "                            OLS Regression Results                            \n",
       "==============================================================================\n",
       "Dep. Variable:             log_useful   R-squared:                       0.137\n",
       "Model:                            OLS   Adj. R-squared:                  0.137\n",
       "Method:                 Least Squares   F-statistic:                 4.954e+04\n",
       "Date:                Thu, 12 Mar 2020   Prob (F-statistic):               0.00\n",
       "Time:                        18:20:48   Log-Likelihood:            -5.2911e+05\n",
       "No. Observations:              624437   AIC:                         1.058e+06\n",
       "Df Residuals:                  624434   BIC:                         1.058e+06\n",
       "Df Model:                           2                                         \n",
       "Covariance Type:            nonrobust                                         \n",
       "=================================================================================================\n",
       "                                    coef    std err          t      P>|t|      [0.025      0.975]\n",
       "-------------------------------------------------------------------------------------------------\n",
       "Intercept                         0.2340      0.002    101.517      0.000       0.229       0.238\n",
       "stars                            -0.0159      0.001    -31.007      0.000      -0.017      -0.015\n",
       "Q(\"sentence info characters\")     0.0006   1.84e-06    303.170      0.000       0.001       0.001\n",
       "==============================================================================\n",
       "Omnibus:                   156710.909   Durbin-Watson:                   2.002\n",
       "Prob(Omnibus):                  0.000   Jarque-Bera (JB):           414222.628\n",
       "Skew:                           1.356   Prob(JB):                         0.00\n",
       "Kurtosis:                       5.927   Cond. No.                     1.90e+03\n",
       "==============================================================================\n",
       "\n",
       "Warnings:\n",
       "[1] Standard Errors assume that the covariance matrix of the errors is correctly specified.\n",
       "[2] The condition number is large, 1.9e+03. This might indicate that there are\n",
       "strong multicollinearity or other numerical problems.\n",
       "\"\"\""
      ]
     },
     "execution_count": 5,
     "metadata": {},
     "output_type": "execute_result"
    }
   ],
   "source": [
    "smresults = smf.ols(formula = 'log_useful ~ stars + Q(\"sentence info characters\")', data=engineered_df).fit()\n",
    "smresults.summary()"
   ]
  },
  {
   "cell_type": "markdown",
   "metadata": {},
   "source": [
    "### Observations\n",
    "\n",
    "Similar R-squared. F-statistic, P(F-statistic), and  coefficient for number of characters remain unchanged. Coefficient for number of stars is negative, meaning there our model has detected a negative correlation between log useful votes and number of stars for a review. This is another trend that we picked up on in the previous notebook that is now backed by the model.\n",
    "\n",
    "There's one other subtle difference in our summary with this model compared to the last. Notice how much higher the conditional number is here, which is essentially a measure of multicollinearity. Multicollinearity is usually viewed in a negative light because ideally you'd like indepence between your features, however it's helpful for this case because it helps with intrepretability. In this sense, it can be intrepretted as there being a high correlation between number of stars for a review and the number of characters in a review. Again, this is incredibly reassuring to see as this was another trend that we picked up on in our Exploratory Data Analysis, which showed that on average, the less stars a review has the more characters it has, which we coupled with the fact that the more characters a review has the more useful it is.  "
   ]
  },
  {
   "cell_type": "markdown",
   "metadata": {},
   "source": [
    "## Deciding The Best Feature Matrix\n",
    "\n",
    "In the previous notebook, we designed a feature matrix with over 35 NLP features and performed PCA on it. PCA showed us that the first two principal components accounted for just over 70% of the variance in the data. Additionally, we saw that the first principal component's coefficients were highest for our sentiment features, namely stars. The second principal component's coefficients were highest in relation to our category of \"sentence info\" NLP features, which includes number of characters. This goes hand in hand with why we chose our previous two baseline features to be these. \n",
    "\n",
    "Now, we can try and determine what additional features we can include to help the performance of our linear model. There's several metrics we can use to evaluate the performance of our model. We'll look at R-squared, Adjusted R-squared, AIC & BIC, and finally RMSE. Because I haven't gone into the meaning behind some of these terms before, so I'll give a quick overview of what they mean in the context of our model. \n",
    "\n",
    "AIC & BIC - These tools of information criterion are widely used in model selection. Roughly, these can be seen as measurements of the tradeoff between goodness of fit and number of variables for a statistical model. Without getting too mathy, we can give the formula for each and a brief description of what's going on\n",
    "\n",
    "$BIC = \\log(n)*k - 2\\log(L)$\n",
    "\n",
    "$AIC = 2*k - 2\\log(L)$\n",
    "\n",
    "where k is the number of features/columns, and n is the number of samples/rows we're using. L is essentially our measure of goodness of fit, so we want this to be high. Our first term in the BIC formula scales with the number of data points and features, while AIC scales with the just the number of features. Since L is a measure of the goodness of fit of our model, obviously we want the second term in both equations to be as higher as possible, which means that we'd like both AIC and BIC to be as low as possible. \n",
    "\n",
    "Adjusted R-squared: Similar to r-squared, this takes into account the number of features used to predict by the model. The adjusted r-squared increase only if the new term improves the model more than what would be expected by chance. In contrast, this value decreases when a feature improves the model by less than expected chance, meaning that if we just added a new feature and the adjusted r-squared went down, then this feature doesn't improve the model by a sufficient amount.\n"
   ]
  },
  {
   "cell_type": "markdown",
   "metadata": {},
   "source": [
    "PCA performs best when all of the variables have the same potential weight. In order to do that, we'll use MinMaxScaler and change all feature variables to be in the range [0, 1], but also keeps the same proportion between each value."
   ]
  },
  {
   "cell_type": "code",
   "execution_count": 6,
   "metadata": {},
   "outputs": [],
   "source": [
    "pca_X = MinMaxScaler(feature_range=[0, 1]).fit_transform(X_train)\n",
    "pca = PCA().fit(pca_X)\n",
    "pca_X = pca.fit_transform(pca_X)\n",
    "pca_X = pd.DataFrame(pca_X)"
   ]
  },
  {
   "cell_type": "code",
   "execution_count": 7,
   "metadata": {},
   "outputs": [],
   "source": [
    "new_pca_cols = {}\n",
    "i = 0\n",
    "for col in pca_X.columns:\n",
    "    new_pca_cols[col] = \"PCA_{}\".format(i)\n",
    "    i += 1\n",
    "pca_X = pca_X.rename(columns = new_pca_cols)"
   ]
  },
  {
   "cell_type": "code",
   "execution_count": 8,
   "metadata": {},
   "outputs": [
    {
     "name": "stderr",
     "output_type": "stream",
     "text": [
      "/anaconda3/lib/python3.6/site-packages/ipykernel_launcher.py:20: SettingWithCopyWarning: \n",
      "A value is trying to be set on a copy of a slice from a DataFrame.\n",
      "Try using .loc[row_indexer,col_indexer] = value instead\n",
      "\n",
      "See the caveats in the documentation: http://pandas.pydata.org/pandas-docs/stable/indexing.html#indexing-view-versus-copy\n"
     ]
    }
   ],
   "source": [
    "pca_names_concated = 'stars + Q(\"sentence info characters\")'\n",
    "r2_list, r2_adj_list, aic_list, bic_list, rmse_list_train, rmse_list_test = [],[],[],[],[],[]\n",
    "X_tr_sub = X_train[[\"stars\", \"sentence info characters\"]]\n",
    "X_tr_sub.reset_index(inplace = True)\n",
    "for num_cols, col in enumerate(pca_X.columns):\n",
    "    num_cols += 1\n",
    "    pca_names_concated = pca_names_concated  + \" + {}\".format(col) \n",
    "    formula = 'log_useful ~ ' + pca_names_concated\n",
    "    pca_names_concated = pca_names_concated  + \" + {}\".format(col)\n",
    "    #6-Fold Cross-Validation with the training set\n",
    "    kf = KFold(n_splits=6, random_state = 13)\n",
    "    rmse_train_total = rmse_test_total = aic_total = bic_total = r2_train_total = r2_adj_total = 0\n",
    "    pcaX_subset = pca_X.iloc[:, :num_cols]\n",
    "    pcaX_subset.reset_index(inplace = True)\n",
    "    hybrid_df_subset = pd.concat([X_tr_sub, pcaX_subset], axis = 1)\n",
    "    hybrid_df_subset.drop(columns = ['index'], inplace = True)\n",
    "    for train_index, val_index in kf.split(hybrid_df_subset, y_train):\n",
    "        X_tr, X_val = hybrid_df_subset.iloc[train_index], hybrid_df_subset.iloc[val_index]\n",
    "        y_tr, y_val = y_train.iloc[train_index], y_train.iloc[val_index]\n",
    "        X_tr['log_useful'] = y_tr\n",
    "        formula = 'log_useful ~ ' + pca_names_concated\n",
    "        sm_OLS = smf.ols(formula, data=X_tr).fit()\n",
    "        X_val = sm.add_constant(X_val)\n",
    "        y_val_pred = sm_OLS.predict(X_val)\n",
    "        y_train_pred = sm_OLS.predict(X_tr)\n",
    "        rmse_test_total += rmse(actual = y_val, predicted = y_val_pred)\n",
    "        rmse_train_total += rmse(actual = y_tr, predicted = y_train_pred)\n",
    "        aic_total += sm_OLS.aic\n",
    "        bic_total += sm_OLS.bic\n",
    "        r2_train_total += sm_OLS.rsquared\n",
    "        r2_adj_total += sm_OLS.rsquared_adj\n",
    "    rmse_list_train.append(rmse_train_total / 6)\n",
    "    rmse_list_test.append(rmse_test_total / 6)\n",
    "    aic_list.append(aic_total / 6)\n",
    "    bic_list.append(bic_total / 6)\n",
    "    r2_list.append(r2_train_total / 6)\n",
    "    r2_adj_list.append(r2_adj_total / 6 )"
   ]
  },
  {
   "cell_type": "code",
   "execution_count": 9,
   "metadata": {},
   "outputs": [
    {
     "data": {
      "image/png": "[encoded data removed]",
      "text/plain": [
       "<Figure size 1080x360 with 3 Axes>"
      ]
     },
     "metadata": {},
     "output_type": "display_data"
    }
   ],
   "source": [
    "f, ax = plt.subplots(1,3, figsize = (15,5))\n",
    "num_features = np.arange(3,43)\n",
    "\n",
    "plt.subplot(131)\n",
    "plt.plot(num_features, r2_list, label = \"R-squared Train\")\n",
    "plt.plot(num_features, r2_adj_list, label = \"R-squared Adjusted\")\n",
    "plt.legend(loc='best')\n",
    "plt.xlabel('Number of Features')\n",
    "plt.ylabel(\"Score\")\n",
    "\n",
    "plt.subplot(132)\n",
    "plt.plot(num_features, aic_list, label = \"AIC\", color = \"green\")\n",
    "plt.plot(num_features, bic_list, label = \"BIC\", color = \"red\")\n",
    "plt.legend(loc='best')\n",
    "plt.xlabel('Number of Features')\n",
    "plt.ylabel(\"Score\")\n",
    "\n",
    "plt.subplot(133)\n",
    "plt.plot(num_features, rmse_list_train, label = \"RMSE Train\")\n",
    "plt.plot(num_features, rmse_list_test, label = \"RMSE Validation\")\n",
    "plt.xlabel('Number of Features')\n",
    "plt.ylabel(\"Score\")\n",
    "plt.legend(loc='best')\n",
    "\n",
    "plt.tight_layout()\n",
    "plt.show()"
   ]
  },
  {
   "cell_type": "markdown",
   "metadata": {},
   "source": [
    "So obviously there's a lot going on here that requires explanation. There's two main points of interest here regarding number of features, namely 13 and 37 features. \n",
    "\n",
    "Starting off with examining the results after 13 features, this is a particular interesting point from adjusted r_squared and RMSE metrics. This marks a point where the adjusted rsquared reaches a global maximum and is followed by a steady descent after adding more features, suggesting a lot of these additional predictors aren't helping our model much. However, we can see that the squared coefficient continues to increase. Our BIC clearly has a linear progression, however AIC tells a different story. Noting that the AIC was already rising previous to 13 features, this  seems to be the beginning of a steady, more progressive raise in our AIC metric. Examining the RMSE we also see an interesting trend ending and another beginning at 13 features. This marks the end of what looks like a rather exponential decrease in our loss, and the beginning of a stagnation in the loss followed by an eventual brief, milder decrease in RMSE. \n",
    "\n",
    "The second point of interest is 37 features. The Rsquared coefficient reaches its apex here, while the adjusted rsquared reaches a local maximum, both of which are good signs. This may signify that the particular feature that we added was particularly useful, as examining the trends before and after the addition of this feature show that we weren't getting much with the other features. The RMSE appears to approach its minimum around 27 features, and loiter around there with the addition of every feature after that. "
   ]
  },
  {
   "cell_type": "markdown",
   "metadata": {},
   "source": [
    "### Random Forest Regression Model\n",
    "\n",
    "Now we'll look at using more advanced models in order to gain insight into oru data. We'll do some hyperparameter tuning in order to find the best parameters for our model, and give a brief overview of what these hyperparameters mean.\n",
    "\n",
    "n estimators-  number of trees in random forest\n",
    "max depth - Maximum number of levels in tree\n",
    "min samples split - Minimum number of samples required to split a node\n",
    "min samples leaf - Minimum number of samples required at each leaf node\n",
    "bootstrap - If true, we sample with replacement"
   ]
  },
  {
   "cell_type": "code",
   "execution_count": 10,
   "metadata": {},
   "outputs": [
    {
     "name": "stderr",
     "output_type": "stream",
     "text": [
      "/anaconda3/lib/python3.6/site-packages/pandas/core/frame.py:3694: SettingWithCopyWarning: \n",
      "A value is trying to be set on a copy of a slice from a DataFrame\n",
      "\n",
      "See the caveats in the documentation: http://pandas.pydata.org/pandas-docs/stable/indexing.html#indexing-view-versus-copy\n",
      "  errors=errors)\n"
     ]
    },
    {
     "name": "stdout",
     "output_type": "stream",
     "text": [
      "(17484, 38)\n"
     ]
    },
    {
     "data": {
      "text/plain": [
       "stars                       0\n",
       "sentence info characters    0\n",
       "PCA_0                       0\n",
       "PCA_1                       0\n",
       "PCA_2                       0\n",
       "PCA_3                       0\n",
       "PCA_4                       0\n",
       "PCA_5                       0\n",
       "PCA_6                       0\n",
       "PCA_7                       0\n",
       "PCA_8                       0\n",
       "PCA_9                       0\n",
       "PCA_10                      0\n",
       "PCA_11                      0\n",
       "PCA_12                      0\n",
       "PCA_13                      0\n",
       "PCA_14                      0\n",
       "PCA_15                      0\n",
       "PCA_16                      0\n",
       "PCA_17                      0\n",
       "PCA_18                      0\n",
       "PCA_19                      0\n",
       "PCA_20                      0\n",
       "PCA_21                      0\n",
       "PCA_22                      0\n",
       "PCA_23                      0\n",
       "PCA_24                      0\n",
       "PCA_25                      0\n",
       "PCA_26                      0\n",
       "PCA_27                      0\n",
       "PCA_28                      0\n",
       "PCA_29                      0\n",
       "PCA_30                      0\n",
       "PCA_31                      0\n",
       "PCA_32                      0\n",
       "PCA_33                      0\n",
       "PCA_34                      0\n",
       "log_useful                  0\n",
       "dtype: int64"
      ]
     },
     "execution_count": 10,
     "metadata": {},
     "output_type": "execute_result"
    }
   ],
   "source": [
    "X_tr_sub.drop(columns = [\"index\"], inplace = True)\n",
    "pcaX_subset = pca_X.iloc[:, :35]\n",
    "hybrid_df = pd.concat([X_tr_sub, pcaX_subset], axis = 1)\n",
    "hybrid_df.reset_index(inplace=True)\n",
    "hybrid_df[\"log_useful\"] = y_train.values\n",
    "hybrid_df = hybrid_df.sample(frac=.04, replace = False,random_state=13)\n",
    "hybrid_df.drop(columns = [\"index\"], inplace = True)\n",
    "print(hybrid_df.shape)\n",
    "hybrid_df.isna().sum()"
   ]
  },
  {
   "cell_type": "code",
   "execution_count": 11,
   "metadata": {},
   "outputs": [],
   "source": [
    "X_sub,y_sub = hybrid_df.drop(columns = [\"log_useful\"]), hybrid_df.log_useful\n",
    "X_train_sub, X_test_sub, y_train_sub, y_test_sub = train_test_split(X_sub, y_sub, test_size=0.3, random_state=13)\n",
    "X_train_sub.head()\n",
    "n_estimators = [10]\n",
    "max_features = ['auto', 'sqrt']\n",
    "max_depth = [5,10,15, None]\n",
    "min_samples_split = [10]\n",
    "min_samples_leaf = [4]\n",
    "bootstrap = [True, False]\n",
    "# Create the random grid\n",
    "param_grid = {'n_estimators': n_estimators, 'min_samples_leaf': min_samples_leaf, \n",
    "              'min_samples_split': min_samples_split, 'bootstrap': bootstrap, 'max_features': max_features, \n",
    "              'max_depth': max_depth}"
   ]
  },
  {
   "cell_type": "code",
   "execution_count": 12,
   "metadata": {},
   "outputs": [
    {
     "name": "stdout",
     "output_type": "stream",
     "text": [
      "{'bootstrap': True, 'max_depth': 5, 'max_features': 'auto', 'min_samples_leaf': 4, 'min_samples_split': 10, 'n_estimators': 10}\n"
     ]
    }
   ],
   "source": [
    "rf = GridSearchCV(RandomForestRegressor(random_state=13), param_grid)\n",
    "rf.fit(X_train_sub, y_train_sub)\n",
    "opt_rf = rf.best_estimator_\n",
    "print(rf.best_params_)"
   ]
  },
  {
   "cell_type": "code",
   "execution_count": 13,
   "metadata": {},
   "outputs": [
    {
     "data": {
      "text/plain": [
       "0.2286688723381152"
      ]
     },
     "execution_count": 13,
     "metadata": {},
     "output_type": "execute_result"
    }
   ],
   "source": [
    "opt_rf.score(X_train_sub, y_train_sub)"
   ]
  },
  {
   "cell_type": "code",
   "execution_count": 14,
   "metadata": {},
   "outputs": [
    {
     "data": {
      "image/png": "[encoded data removed]",
      "text/plain": [
       "<Figure size 864x576 with 1 Axes>"
      ]
     },
     "metadata": {},
     "output_type": "display_data"
    }
   ],
   "source": [
    "feature_significances = pd.Series(opt_rf.feature_importances_, index = X_sub.columns)\n",
    "feature_significances.plot(kind = \"bar\", figsize = [12,8])\n",
    "plt.tight_layout()"
   ]
  },
  {
   "cell_type": "code",
   "execution_count": null,
   "metadata": {},
   "outputs": [],
   "source": []
  }
 ],
 "metadata": {
  "kernelspec": {
   "display_name": "Python 3",
   "language": "python",
   "name": "python3"
  },
  "language_info": {
   "codemirror_mode": {
    "name": "ipython",
    "version": 3
   },
   "file_extension": ".py",
   "mimetype": "text/x-python",
   "name": "python",
   "nbconvert_exporter": "python",
   "pygments_lexer": "ipython3",
   "version": "3.6.5"
  }
 },
 "nbformat": 4,
 "nbformat_minor": 2
}
