{
 "cells": [
  {
   "cell_type": "code",
   "execution_count": 1,
   "metadata": {},
   "outputs": [],
   "source": [
    "import pandas as pd\n",
    "import numpy as np\n",
    "import matplotlib.pyplot as plt\n",
    "import json\n",
    "import seaborn as sns\n",
    "pd.set_option('display.max_columns', 500)\n",
    "import re, string\n",
    "import time"
   ]
  },
  {
   "cell_type": "markdown",
   "metadata": {},
   "source": [
    "## Data Collection & Extraction\n",
    "\n",
    "Source: https://www.yelp.com/dataset/challenge\n",
    "We'll only use the business and review jsons for now. "
   ]
  },
  {
   "cell_type": "code",
   "execution_count": 2,
   "metadata": {},
   "outputs": [],
   "source": [
    "businesses = []\n",
    "business_reader = pd.read_json('yelp_dataset/business.json', lines=True, chunksize=100000)\n",
    "for chunk in business_reader:\n",
    "    businesses.append(chunk)\n",
    "business_df = pd.concat(businesses)\n",
    "business_df.dropna(subset=[\"categories\"], inplace = True)\n",
    "nested = [i for i in business_df[\"categories\"].apply(lambda x: x.split(\", \"))]\n",
    "business_categories = []\n",
    "for sublist in nested:\n",
    "    for item in sublist:\n",
    "        business_categories.append(item)\n",
    "cat_df = pd.DataFrame(business_categories, columns = [\"categories\"])\n",
    "restaurant_df = business_df[business_df.categories.str.contains(\"Restaurant\")]"
   ]
  },
  {
   "cell_type": "markdown",
   "metadata": {},
   "source": [
    "Let's take a quick peak at the distributions of some pertinent features of our bussiness dataframe."
   ]
  },
  {
   "cell_type": "code",
   "execution_count": 3,
   "metadata": {},
   "outputs": [
    {
     "data": {
      "image/png": "[encoded data removed]",
      "text/plain": [
       "<Figure size 1080x432 with 2 Axes>"
      ]
     },
     "metadata": {},
     "output_type": "display_data"
    }
   ],
   "source": [
    "f, ax = plt.subplots(1,2, figsize = [15,6])\n",
    "\n",
    "ax0 = plt.subplot(131)\n",
    "cat_df.categories.value_counts(normalize = True)[:10].plot(kind = \"bar\", ax = ax0)\n",
    "ax0.set_title(\"Distribution of Businesses\")\n",
    "\n",
    "ax1 = plt.subplot(132)\n",
    "business_df.state.value_counts(normalize = True)[:10].plot(kind = \"barh\", ax = ax1)\n",
    "ax1.set_title(\"Distribution of Business Locations\")\n",
    "\n",
    "\n",
    "plt.tight_layout()"
   ]
  },
  {
   "cell_type": "markdown",
   "metadata": {},
   "source": [
    "### Review data loading and preprocessing\n",
    "1. We'll narrow our reviews to exclusively restaurants since a different sentiment of usefulness could be assosciated with different business types. Additionally, restaurants happens to be the largest subset of the data.\n",
    "2. Upon first inspection, one may think that we runn into a problem with predicting how many useful votes a review will get as it is intertwined with how long a review has been up. Clearly, one would think that reviews that have been up longer will accumulate more useful votes. However, based off of the way yelp displays reviews in order to the user, the website accounts for time by implementing an algorithm that attempts to fitler out the order of reviews displayed to users such that it is independent of time by giving newer reviews a boost to display them before older reviews in attempt to counter attack the way that useful votes and time interact with eachother. We'll see later on in the EDA that number of useful votes is more or less independent of time, given that we give reviews atleast a month to accumulate votes. Thus, We'll look at reviews that have had atleast 1 month to accumulate votes, as well as no reviews older than 2014 to ensure we're observing the most recent trends.\n",
    "\n",
    "We'll see justification for this preprocessing by loading in and examining our first batch of data."
   ]
  },
  {
   "cell_type": "code",
   "execution_count": 4,
   "metadata": {},
   "outputs": [
    {
     "name": "stdout",
     "output_type": "stream",
     "text": [
      "(3122279, 13)\n"
     ]
    },
    {
     "data": {
      "text/html": [
       "<div>\n",
       "<style scoped>\n",
       "    .dataframe tbody tr th:only-of-type {\n",
       "        vertical-align: middle;\n",
       "    }\n",
       "\n",
       "    .dataframe tbody tr th {\n",
       "        vertical-align: top;\n",
       "    }\n",
       "\n",
       "    .dataframe thead th {\n",
       "        text-align: right;\n",
       "    }\n",
       "</style>\n",
       "<table border=\"1\" class=\"dataframe\">\n",
       "  <thead>\n",
       "    <tr style=\"text-align: right;\">\n",
       "      <th></th>\n",
       "      <th>business_id</th>\n",
       "      <th>cool</th>\n",
       "      <th>date</th>\n",
       "      <th>funny</th>\n",
       "      <th>review_id</th>\n",
       "      <th>stars</th>\n",
       "      <th>text</th>\n",
       "      <th>useful</th>\n",
       "      <th>user_id</th>\n",
       "      <th>categories</th>\n",
       "      <th>year</th>\n",
       "      <th>nb_days</th>\n",
       "      <th>log_useful</th>\n",
       "    </tr>\n",
       "  </thead>\n",
       "  <tbody>\n",
       "    <tr>\n",
       "      <th>0</th>\n",
       "      <td>ikCg8xy5JIg_NGPx-MSIDA</td>\n",
       "      <td>0</td>\n",
       "      <td>2018-01-09 20:56:38</td>\n",
       "      <td>0</td>\n",
       "      <td>yi0R0Ugj_xUx_Nek0-_Qig</td>\n",
       "      <td>5</td>\n",
       "      <td>Went in for a lunch. Steak sandwich was delici...</td>\n",
       "      <td>0</td>\n",
       "      <td>dacAIZ6fTM6mqwW5uxkskg</td>\n",
       "      <td>Bars, Pubs, Nightlife, Tapas Bars, Restaurants</td>\n",
       "      <td>2018</td>\n",
       "      <td>305</td>\n",
       "      <td>0.000000</td>\n",
       "    </tr>\n",
       "    <tr>\n",
       "      <th>1</th>\n",
       "      <td>ikCg8xy5JIg_NGPx-MSIDA</td>\n",
       "      <td>0</td>\n",
       "      <td>2015-09-09 22:10:49</td>\n",
       "      <td>0</td>\n",
       "      <td>kSq_5yiDetNh-RRkvpB5Jw</td>\n",
       "      <td>1</td>\n",
       "      <td>Really one of dirtiest places to eat,not sure ...</td>\n",
       "      <td>0</td>\n",
       "      <td>eKyshoiTpZVF1_U4B9CHEg</td>\n",
       "      <td>Bars, Pubs, Nightlife, Tapas Bars, Restaurants</td>\n",
       "      <td>2015</td>\n",
       "      <td>1158</td>\n",
       "      <td>0.000000</td>\n",
       "    </tr>\n",
       "    <tr>\n",
       "      <th>2</th>\n",
       "      <td>ikCg8xy5JIg_NGPx-MSIDA</td>\n",
       "      <td>0</td>\n",
       "      <td>2014-05-28 00:22:08</td>\n",
       "      <td>0</td>\n",
       "      <td>Lxm5nANkCytCtMrnzYscXg</td>\n",
       "      <td>1</td>\n",
       "      <td>Terrible place to eat and or drink, waitresses...</td>\n",
       "      <td>1</td>\n",
       "      <td>eKyshoiTpZVF1_U4B9CHEg</td>\n",
       "      <td>Bars, Pubs, Nightlife, Tapas Bars, Restaurants</td>\n",
       "      <td>2014</td>\n",
       "      <td>1628</td>\n",
       "      <td>0.693147</td>\n",
       "    </tr>\n",
       "    <tr>\n",
       "      <th>4</th>\n",
       "      <td>eU_713ec6fTGNO4BegRaww</td>\n",
       "      <td>0</td>\n",
       "      <td>2015-06-08 18:51:54</td>\n",
       "      <td>0</td>\n",
       "      <td>Ci7eLn5l1X1UTIe0COaCrA</td>\n",
       "      <td>5</td>\n",
       "      <td>One of the best Italian restaurants in a city ...</td>\n",
       "      <td>1</td>\n",
       "      <td>y0X59ZwPp89jVkceROxTtA</td>\n",
       "      <td>Restaurants, Italian, Pizza</td>\n",
       "      <td>2015</td>\n",
       "      <td>1252</td>\n",
       "      <td>0.693147</td>\n",
       "    </tr>\n",
       "    <tr>\n",
       "      <th>7</th>\n",
       "      <td>eU_713ec6fTGNO4BegRaww</td>\n",
       "      <td>0</td>\n",
       "      <td>2016-04-23 14:18:21</td>\n",
       "      <td>0</td>\n",
       "      <td>rnWDfIlw_fGqySRWaM84gg</td>\n",
       "      <td>5</td>\n",
       "      <td>A favorite amongst my girlfriends and family. ...</td>\n",
       "      <td>0</td>\n",
       "      <td>Jk0AcqPCVMfc_DTWO3SzwA</td>\n",
       "      <td>Restaurants, Italian, Pizza</td>\n",
       "      <td>2016</td>\n",
       "      <td>932</td>\n",
       "      <td>0.000000</td>\n",
       "    </tr>\n",
       "  </tbody>\n",
       "</table>\n",
       "</div>"
      ],
      "text/plain": [
       "              business_id  cool                date  funny  \\\n",
       "0  ikCg8xy5JIg_NGPx-MSIDA     0 2018-01-09 20:56:38      0   \n",
       "1  ikCg8xy5JIg_NGPx-MSIDA     0 2015-09-09 22:10:49      0   \n",
       "2  ikCg8xy5JIg_NGPx-MSIDA     0 2014-05-28 00:22:08      0   \n",
       "4  eU_713ec6fTGNO4BegRaww     0 2015-06-08 18:51:54      0   \n",
       "7  eU_713ec6fTGNO4BegRaww     0 2016-04-23 14:18:21      0   \n",
       "\n",
       "                review_id  stars  \\\n",
       "0  yi0R0Ugj_xUx_Nek0-_Qig      5   \n",
       "1  kSq_5yiDetNh-RRkvpB5Jw      1   \n",
       "2  Lxm5nANkCytCtMrnzYscXg      1   \n",
       "4  Ci7eLn5l1X1UTIe0COaCrA      5   \n",
       "7  rnWDfIlw_fGqySRWaM84gg      5   \n",
       "\n",
       "                                                text  useful  \\\n",
       "0  Went in for a lunch. Steak sandwich was delici...       0   \n",
       "1  Really one of dirtiest places to eat,not sure ...       0   \n",
       "2  Terrible place to eat and or drink, waitresses...       1   \n",
       "4  One of the best Italian restaurants in a city ...       1   \n",
       "7  A favorite amongst my girlfriends and family. ...       0   \n",
       "\n",
       "                  user_id                                      categories  \\\n",
       "0  dacAIZ6fTM6mqwW5uxkskg  Bars, Pubs, Nightlife, Tapas Bars, Restaurants   \n",
       "1  eKyshoiTpZVF1_U4B9CHEg  Bars, Pubs, Nightlife, Tapas Bars, Restaurants   \n",
       "2  eKyshoiTpZVF1_U4B9CHEg  Bars, Pubs, Nightlife, Tapas Bars, Restaurants   \n",
       "4  y0X59ZwPp89jVkceROxTtA                     Restaurants, Italian, Pizza   \n",
       "7  Jk0AcqPCVMfc_DTWO3SzwA                     Restaurants, Italian, Pizza   \n",
       "\n",
       "   year  nb_days  log_useful  \n",
       "0  2018      305    0.000000  \n",
       "1  2015     1158    0.000000  \n",
       "2  2014     1628    0.693147  \n",
       "4  2015     1252    0.693147  \n",
       "7  2016      932    0.000000  "
      ]
     },
     "execution_count": 4,
     "metadata": {},
     "output_type": "execute_result"
    }
   ],
   "source": [
    "reviews=[]\n",
    "review_reader = pd.read_json('yelp_dataset/review.json', lines=True, chunksize=100000)\n",
    "most_recent = pd.Timestamp('2018-11-11 20:55:31')\n",
    "begin = True\n",
    "for chunk in review_reader:\n",
    "    chunk = chunk[chunk.useful >= 0]\n",
    "    chunk = chunk.merge(restaurant_df[[\"categories\", \"business_id\"]], how = \"inner\", on = \"business_id\")\n",
    "    chunk.dropna(inplace = True)\n",
    "    chunk['date'] = pd.to_datetime(chunk['date'])\n",
    "    chunk['year'] = pd.DatetimeIndex(chunk['date']).year\n",
    "    chunk['nb_days'] = chunk.date.apply(lambda d: (most_recent - d) / np.timedelta64(1, 'D'))\n",
    "    chunk['nb_days'] = chunk['nb_days'].astype(int)\n",
    "    chunk = chunk[chunk.nb_days >= 30]\n",
    "    chunk = chunk[chunk.year >= 2014]\n",
    "    chunk[\"log_useful\"] = np.log(chunk.useful+1)\n",
    "    reviews.append(chunk)\n",
    "review_df = pd.concat(reviews)\n",
    "print(review_df.shape)\n",
    "review_df.head()"
   ]
  },
  {
   "cell_type": "code",
   "execution_count": 5,
   "metadata": {},
   "outputs": [
    {
     "data": {
      "text/plain": [
       "Text(0.5,1,'Distribution of Reviews by Year')"
      ]
     },
     "execution_count": 5,
     "metadata": {},
     "output_type": "execute_result"
    },
    {
     "data": {
      "image/png": "[encoded data removed]",
      "text/plain": [
       "<Figure size 432x288 with 1 Axes>"
      ]
     },
     "metadata": {},
     "output_type": "display_data"
    }
   ],
   "source": [
    "f, ax =plt.subplots()\n",
    "review_df.year.value_counts(normalize = True)[:10].plot(kind = \"pie\", autopct=\"%1.1f%%\")\n",
    "ax.set_title(\"Distribution of Reviews by Year\")"
   ]
  },
  {
   "cell_type": "code",
   "execution_count": 6,
   "metadata": {},
   "outputs": [
    {
     "name": "stdout",
     "output_type": "stream",
     "text": [
      "(3122279, 13)\n"
     ]
    },
    {
     "data": {
      "text/plain": [
       "stars         0\n",
       "text          0\n",
       "useful        0\n",
       "nb_days       0\n",
       "log_useful    0\n",
       "dtype: int64"
      ]
     },
     "execution_count": 6,
     "metadata": {},
     "output_type": "execute_result"
    }
   ],
   "source": [
    "print(review_df.shape)\n",
    "review_df.drop(columns = [\"business_id\", \"cool\", \"date\", \"funny\", \"review_id\", \"user_id\", \"categories\", \"year\"], \n",
    "               inplace = True)\n",
    "review_df.isna().sum()"
   ]
  },
  {
   "cell_type": "code",
   "execution_count": 7,
   "metadata": {},
   "outputs": [],
   "source": [
    "review_df.to_csv('review_df.csv', index=False)"
   ]
  }
 ],
 "metadata": {
  "kernelspec": {
   "display_name": "Python 3",
   "language": "python",
   "name": "python3"
  },
  "language_info": {
   "codemirror_mode": {
    "name": "ipython",
    "version": 3
   },
   "file_extension": ".py",
   "mimetype": "text/x-python",
   "name": "python",
   "nbconvert_exporter": "python",
   "pygments_lexer": "ipython3",
   "version": "3.6.5"
  }
 },
 "nbformat": 4,
 "nbformat_minor": 2
}
